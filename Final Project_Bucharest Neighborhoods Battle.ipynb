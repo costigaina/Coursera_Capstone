{
    "cells": [
        {
            "metadata": {
                "collapsed": true
            },
            "cell_type": "markdown",
            "source": "<h1>Housing Prices & Venues - Data Analysis of Bucharest</h1>"
        },
        {
            "metadata": {},
            "cell_type": "markdown",
            "source": "## A. Introduction"
        },
        {
            "metadata": {},
            "cell_type": "markdown",
            "source": "<h2>A.1. Description & Business Problem</h2>"
        },
        {
            "metadata": {},
            "cell_type": "markdown",
            "source": "Bucharest  is the capital and largest city of Romania, as well as its cultural, industrial, and financial centre. It is located in the southeast of the country, at 44\u00b025\u203257\u2033N 26\u00b006\u203214\u2033ECoordinates: 44\u00b025\u203257\u2033N 26\u00b006\u203214\u2033E, on the banks of the D\u00e2mbovi\u021ba River, less than 60 km (37.3 mi) north of the Danube River and the Bulgarian border.\nAs the largest city in Romania, Bucharest has more than 2 milions of people as inhabitants, and a surface of 228 km2. Is also a city with a very high population density: 8,260/km2 (21,400/sq mi), owing to the fact that most of the population lives in high-density communist era apartment blocks."
        },
        {
            "metadata": {},
            "cell_type": "markdown",
            "source": "In 2019 Bucharest was rated by TomTom as the number 4 city in Europe and as number 14 in the world, based on traffic congestion level (https://www.tomtom.com/en_gb/traffic-index/ranking/) and this situation has a very high relation with the population density, city infrastructure, public transportation and many other factors localy known.  "
        },
        {
            "metadata": {},
            "cell_type": "markdown",
            "source": "Bucharest is devided in 6 Sectors with independent administration and each sector in many neighborhoods.There are a total of 55 neighborhoods and areas of interes in Bucharest witch the residents are well aware of, and the decision of purchasing or renting a house or flat is made according with these neighborhoods not with the big Sectors. In the same time, Bucharest has over 95% of house owners, people prefering to purchase a home and not to rent.  "
        },
        {
            "metadata": {},
            "cell_type": "markdown",
            "source": "Having all of these in mind, if you need to cross the city every day in order to get to the place of work is possible to think one day to actually move. Beside selling the house you own and buying another in the same price range, the venues around your new location are also very important in order to maintain the same or better life style.<br>\nIn this analysis I will gather data about the housing prices and about the venues (cultural, educational, and entertaining) in Bucharest and I will cluster all the neighborhoods and areas of interest into categories and show them on the Bucharest map in order to help anyone that need to switch living accomodation to make a decision."
        },
        {
            "metadata": {},
            "cell_type": "markdown",
            "source": "<h2>A.2. Data Description</h2>"
        },
        {
            "metadata": {},
            "cell_type": "markdown",
            "source": "To consider the problem we can list the datas as below:"
        },
        {
            "metadata": {},
            "cell_type": "markdown",
            "source": "\u2022\tThere are not too many public datas related to demographic and social parameters for the city of Bucharest. The housing prices are collected from the \"Raport_Q4_2019eng_housing price\" on the romanian portal https://www.analizeimobiliare.ro/, wich is part of the largest real estate comunity in Romania."
        },
        {
            "metadata": {},
            "cell_type": "markdown",
            "source": "\u2022\tData of the Bucharest neighborhoods and of the demographic characteriscs was colected via Wikipedia web site"
        },
        {
            "metadata": {},
            "cell_type": "markdown",
            "source": "\u2022\tI used Forsquare API to get the most common venues of given Borough of Bucharest"
        },
        {
            "metadata": {},
            "cell_type": "markdown",
            "source": "\u2022\tGoogle Map, \u2018Search Nearby\u2019 option was used to get the center coordinates of the each neighborhoods."
        },
        {
            "metadata": {},
            "cell_type": "markdown",
            "source": "<h2>B. Methodology</h2>"
        },
        {
            "metadata": {},
            "cell_type": "markdown",
            "source": "As a database, I used GitHub repository in my study. My master data which has the main components Borough, Average House Price, Latitude and Longitude informations of the city of Bucharest"
        },
        {
            "metadata": {},
            "cell_type": "code",
            "source": "import pandas as pd",
            "execution_count": 1,
            "outputs": []
        },
        {
            "metadata": {},
            "cell_type": "code",
            "source": "df = pd.read_csv('https://raw.githubusercontent.com/costigaina/Coursera_Capstone/master/HSP_Bucharest.csv',error_bad_lines=False)",
            "execution_count": 20,
            "outputs": []
        },
        {
            "metadata": {},
            "cell_type": "code",
            "source": "df.head()",
            "execution_count": 21,
            "outputs": [
                {
                    "output_type": "execute_result",
                    "execution_count": 21,
                    "data": {
                        "text/plain": "                 Borough  Average House Price  Latitude  Longitude\n0                  1 Mai                 1690   44.4711    26.0500\n1  13 Septembrie-Panduri                 1250   44.2518    26.0406\n2               Aviatiei                 2060   44.4823    26.0981\n3             Andronache                 1300   44.4785    26.1501\n4               Baicului                  990   44.4481    26.1493",
                        "text/html": "<div>\n<style scoped>\n    .dataframe tbody tr th:only-of-type {\n        vertical-align: middle;\n    }\n\n    .dataframe tbody tr th {\n        vertical-align: top;\n    }\n\n    .dataframe thead th {\n        text-align: right;\n    }\n</style>\n<table border=\"1\" class=\"dataframe\">\n  <thead>\n    <tr style=\"text-align: right;\">\n      <th></th>\n      <th>Borough</th>\n      <th>Average House Price</th>\n      <th>Latitude</th>\n      <th>Longitude</th>\n    </tr>\n  </thead>\n  <tbody>\n    <tr>\n      <th>0</th>\n      <td>1 Mai</td>\n      <td>1690</td>\n      <td>44.4711</td>\n      <td>26.0500</td>\n    </tr>\n    <tr>\n      <th>1</th>\n      <td>13 Septembrie-Panduri</td>\n      <td>1250</td>\n      <td>44.2518</td>\n      <td>26.0406</td>\n    </tr>\n    <tr>\n      <th>2</th>\n      <td>Aviatiei</td>\n      <td>2060</td>\n      <td>44.4823</td>\n      <td>26.0981</td>\n    </tr>\n    <tr>\n      <th>3</th>\n      <td>Andronache</td>\n      <td>1300</td>\n      <td>44.4785</td>\n      <td>26.1501</td>\n    </tr>\n    <tr>\n      <th>4</th>\n      <td>Baicului</td>\n      <td>990</td>\n      <td>44.4481</td>\n      <td>26.1493</td>\n    </tr>\n  </tbody>\n</table>\n</div>"
                    },
                    "metadata": {}
                }
            ]
        },
        {
            "metadata": {},
            "cell_type": "code",
            "source": "",
            "execution_count": null,
            "outputs": []
        }
    ],
    "metadata": {
        "kernelspec": {
            "name": "python3",
            "display_name": "Python 3.6",
            "language": "python"
        },
        "language_info": {
            "name": "python",
            "version": "3.6.9",
            "mimetype": "text/x-python",
            "codemirror_mode": {
                "name": "ipython",
                "version": 3
            },
            "pygments_lexer": "ipython3",
            "nbconvert_exporter": "python",
            "file_extension": ".py"
        }
    },
    "nbformat": 4,
    "nbformat_minor": 1
}